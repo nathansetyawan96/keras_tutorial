{
 "metadata": {
  "language_info": {
   "codemirror_mode": {
    "name": "ipython",
    "version": 3
   },
   "file_extension": ".py",
   "mimetype": "text/x-python",
   "name": "python",
   "nbconvert_exporter": "python",
   "pygments_lexer": "ipython3",
   "version": "3.8.5-final"
  },
  "orig_nbformat": 2,
  "kernelspec": {
   "name": "python38364bit8281a81d325e46aa9b047ee09597b843",
   "display_name": "Python 3.8.3 64-bit",
   "language": "python"
  }
 },
 "nbformat": 4,
 "nbformat_minor": 2,
 "cells": [
  {
   "cell_type": "code",
   "execution_count": 3,
   "metadata": {},
   "outputs": [],
   "source": [
    "from keras.models import Sequential\n",
    "from keras.layers import Dense"
   ]
  },
  {
   "source": [
    "Let's say we want to create a neural network that looks like this\n",
    "![Neural Network](./neural_network.jpg)"
   ],
   "cell_type": "markdown",
   "metadata": {}
  },
  {
   "cell_type": "code",
   "execution_count": 5,
   "metadata": {},
   "outputs": [],
   "source": [
    "model = Sequential()\n",
    "\n",
    "# The first layer of the neural network\n",
    "model.add(Dense(10, input_shape=(8,), activation=\"relu\"))\n",
    "\n",
    "# The second layer of the neural network\n",
    "model.add(Dense(8, input_shape=(10,), activation=\"relu\"))\n",
    "\n",
    "# The output layer of the neural network\n",
    "model.add(Dense(1, input_shape=(8,)))"
   ]
  },
  {
   "cell_type": "code",
   "execution_count": 6,
   "metadata": {},
   "outputs": [
    {
     "output_type": "stream",
     "name": "stdout",
     "text": [
      "Model: \"sequential\"\n_________________________________________________________________\nLayer (type)                 Output Shape              Param #   \n=================================================================\ndense (Dense)                (None, 10)                90        \n_________________________________________________________________\ndense_1 (Dense)              (None, 8)                 88        \n_________________________________________________________________\ndense_2 (Dense)              (None, 1)                 9         \n=================================================================\nTotal params: 187\nTrainable params: 187\nNon-trainable params: 0\n_________________________________________________________________\n"
     ]
    }
   ],
   "source": [
    "model.summary()"
   ]
  }
 ]
}